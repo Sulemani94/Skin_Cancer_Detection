{
 "cells": [
  {
   "cell_type": "markdown",
   "id": "4d7a69fc",
   "metadata": {
    "papermill": {
     "duration": 0.010008,
     "end_time": "2023-08-20T09:48:38.387499",
     "exception": false,
     "start_time": "2023-08-20T09:48:38.377491",
     "status": "completed"
    },
    "tags": []
   },
   "source": [
    "# Import needed libraries"
   ]
  },
  {
   "cell_type": "code",
   "execution_count": 1,
   "id": "8b70c14a",
   "metadata": {
    "execution": {
     "iopub.execute_input": "2023-08-20T09:48:38.409156Z",
     "iopub.status.busy": "2023-08-20T09:48:38.408329Z",
     "iopub.status.idle": "2023-08-20T09:48:47.746382Z",
     "shell.execute_reply": "2023-08-20T09:48:47.744189Z"
    },
    "papermill": {
     "duration": 9.351503,
     "end_time": "2023-08-20T09:48:47.748653",
     "exception": false,
     "start_time": "2023-08-20T09:48:38.397150",
     "status": "completed"
    },
    "tags": []
   },
   "outputs": [
    {
     "name": "stderr",
     "output_type": "stream",
     "text": [
      "/opt/conda/lib/python3.10/site-packages/scipy/__init__.py:146: UserWarning: A NumPy version >=1.16.5 and <1.23.0 is required for this version of SciPy (detected version 1.23.5\n",
      "  warnings.warn(f\"A NumPy version >={np_minversion} and <{np_maxversion}\"\n",
      "/opt/conda/lib/python3.10/site-packages/tensorflow_io/python/ops/__init__.py:98: UserWarning: unable to load libtensorflow_io_plugins.so: unable to open file: libtensorflow_io_plugins.so, from paths: ['/opt/conda/lib/python3.10/site-packages/tensorflow_io/python/ops/libtensorflow_io_plugins.so']\n",
      "caused by: ['/opt/conda/lib/python3.10/site-packages/tensorflow_io/python/ops/libtensorflow_io_plugins.so: undefined symbol: _ZN3tsl6StatusC1EN10tensorflow5error4CodeESt17basic_string_viewIcSt11char_traitsIcEENS_14SourceLocationE']\n",
      "  warnings.warn(f\"unable to load libtensorflow_io_plugins.so: {e}\")\n",
      "/opt/conda/lib/python3.10/site-packages/tensorflow_io/python/ops/__init__.py:104: UserWarning: file system plugins are not loaded: unable to open file: libtensorflow_io.so, from paths: ['/opt/conda/lib/python3.10/site-packages/tensorflow_io/python/ops/libtensorflow_io.so']\n",
      "caused by: ['/opt/conda/lib/python3.10/site-packages/tensorflow_io/python/ops/libtensorflow_io.so: undefined symbol: _ZTVN10tensorflow13GcsFileSystemE']\n",
      "  warnings.warn(f\"file system plugins are not loaded: {e}\")\n"
     ]
    },
    {
     "name": "stdout",
     "output_type": "stream",
     "text": [
      "modules loaded\n"
     ]
    }
   ],
   "source": [
    "# import system libs \n",
    "import os\n",
    "import time\n",
    "import shutil\n",
    "import itertools\n",
    "\n",
    "# import data handling tools \n",
    "import cv2\n",
    "import numpy as np\n",
    "import pandas as pd\n",
    "import seaborn as sns\n",
    "sns.set_style('darkgrid')\n",
    "import matplotlib.pyplot as plt\n",
    "# import Deep learning Libraries\n",
    "import tensorflow as tf\n",
    "from tensorflow import keras\n",
    "from tensorflow.keras.layers import Conv2D, MaxPooling2D, Flatten, Dense, Activation, Dropout, BatchNormalization\n",
    "from tensorflow.keras.models import Model, load_model, Sequential\n",
    "from tensorflow.keras.preprocessing.image import ImageDataGenerator\n",
    "from sklearn.metrics import confusion_matrix, classification_report\n",
    "from sklearn.model_selection import train_test_split\n",
    "from tensorflow.keras.optimizers import Adam, Adamax\n",
    "from tensorflow.keras import regularizers\n",
    "from tensorflow.keras.metrics import categorical_crossentropy\n",
    "\n",
    "# Ignore Warnings\n",
    "import warnings\n",
    "warnings.filterwarnings(\"ignore\")\n",
    "\n",
    "print ('modules loaded')\n"
   ]
  },
  {
   "cell_type": "markdown",
   "id": "ca0b0cc6",
   "metadata": {
    "papermill": {
     "duration": 0.009033,
     "end_time": "2023-08-20T09:48:47.767904",
     "exception": false,
     "start_time": "2023-08-20T09:48:47.758871",
     "status": "completed"
    },
    "tags": []
   },
   "source": [
    "# Read data"
   ]
  },
  {
   "cell_type": "code",
   "execution_count": 2,
   "id": "a71d491d",
   "metadata": {
    "execution": {
     "iopub.execute_input": "2023-08-20T09:48:47.788946Z",
     "iopub.status.busy": "2023-08-20T09:48:47.787061Z",
     "iopub.status.idle": "2023-08-20T09:48:52.224422Z",
     "shell.execute_reply": "2023-08-20T09:48:52.223425Z"
    },
    "papermill": {
     "duration": 4.449875,
     "end_time": "2023-08-20T09:48:52.226926",
     "exception": false,
     "start_time": "2023-08-20T09:48:47.777051",
     "status": "completed"
    },
    "tags": []
   },
   "outputs": [
    {
     "data": {
      "text/html": [
       "<div>\n",
       "<style scoped>\n",
       "    .dataframe tbody tr th:only-of-type {\n",
       "        vertical-align: middle;\n",
       "    }\n",
       "\n",
       "    .dataframe tbody tr th {\n",
       "        vertical-align: top;\n",
       "    }\n",
       "\n",
       "    .dataframe thead th {\n",
       "        text-align: right;\n",
       "    }\n",
       "</style>\n",
       "<table border=\"1\" class=\"dataframe\">\n",
       "  <thead>\n",
       "    <tr style=\"text-align: right;\">\n",
       "      <th></th>\n",
       "      <th>pixel0000</th>\n",
       "      <th>pixel0001</th>\n",
       "      <th>pixel0002</th>\n",
       "      <th>pixel0003</th>\n",
       "      <th>pixel0004</th>\n",
       "      <th>pixel0005</th>\n",
       "      <th>pixel0006</th>\n",
       "      <th>pixel0007</th>\n",
       "      <th>pixel0008</th>\n",
       "      <th>pixel0009</th>\n",
       "      <th>...</th>\n",
       "      <th>pixel2343</th>\n",
       "      <th>pixel2344</th>\n",
       "      <th>pixel2345</th>\n",
       "      <th>pixel2346</th>\n",
       "      <th>pixel2347</th>\n",
       "      <th>pixel2348</th>\n",
       "      <th>pixel2349</th>\n",
       "      <th>pixel2350</th>\n",
       "      <th>pixel2351</th>\n",
       "      <th>label</th>\n",
       "    </tr>\n",
       "  </thead>\n",
       "  <tbody>\n",
       "    <tr>\n",
       "      <th>0</th>\n",
       "      <td>192</td>\n",
       "      <td>153</td>\n",
       "      <td>193</td>\n",
       "      <td>195</td>\n",
       "      <td>155</td>\n",
       "      <td>192</td>\n",
       "      <td>197</td>\n",
       "      <td>154</td>\n",
       "      <td>185</td>\n",
       "      <td>202</td>\n",
       "      <td>...</td>\n",
       "      <td>173</td>\n",
       "      <td>124</td>\n",
       "      <td>138</td>\n",
       "      <td>183</td>\n",
       "      <td>147</td>\n",
       "      <td>166</td>\n",
       "      <td>185</td>\n",
       "      <td>154</td>\n",
       "      <td>177</td>\n",
       "      <td>2</td>\n",
       "    </tr>\n",
       "    <tr>\n",
       "      <th>1</th>\n",
       "      <td>25</td>\n",
       "      <td>14</td>\n",
       "      <td>30</td>\n",
       "      <td>68</td>\n",
       "      <td>48</td>\n",
       "      <td>75</td>\n",
       "      <td>123</td>\n",
       "      <td>93</td>\n",
       "      <td>126</td>\n",
       "      <td>158</td>\n",
       "      <td>...</td>\n",
       "      <td>60</td>\n",
       "      <td>39</td>\n",
       "      <td>55</td>\n",
       "      <td>25</td>\n",
       "      <td>14</td>\n",
       "      <td>28</td>\n",
       "      <td>25</td>\n",
       "      <td>14</td>\n",
       "      <td>27</td>\n",
       "      <td>2</td>\n",
       "    </tr>\n",
       "    <tr>\n",
       "      <th>2</th>\n",
       "      <td>192</td>\n",
       "      <td>138</td>\n",
       "      <td>153</td>\n",
       "      <td>200</td>\n",
       "      <td>145</td>\n",
       "      <td>163</td>\n",
       "      <td>201</td>\n",
       "      <td>142</td>\n",
       "      <td>160</td>\n",
       "      <td>206</td>\n",
       "      <td>...</td>\n",
       "      <td>167</td>\n",
       "      <td>129</td>\n",
       "      <td>143</td>\n",
       "      <td>159</td>\n",
       "      <td>124</td>\n",
       "      <td>142</td>\n",
       "      <td>136</td>\n",
       "      <td>104</td>\n",
       "      <td>117</td>\n",
       "      <td>2</td>\n",
       "    </tr>\n",
       "    <tr>\n",
       "      <th>3</th>\n",
       "      <td>38</td>\n",
       "      <td>19</td>\n",
       "      <td>30</td>\n",
       "      <td>95</td>\n",
       "      <td>59</td>\n",
       "      <td>72</td>\n",
       "      <td>143</td>\n",
       "      <td>103</td>\n",
       "      <td>119</td>\n",
       "      <td>171</td>\n",
       "      <td>...</td>\n",
       "      <td>44</td>\n",
       "      <td>26</td>\n",
       "      <td>36</td>\n",
       "      <td>25</td>\n",
       "      <td>12</td>\n",
       "      <td>17</td>\n",
       "      <td>25</td>\n",
       "      <td>12</td>\n",
       "      <td>15</td>\n",
       "      <td>2</td>\n",
       "    </tr>\n",
       "    <tr>\n",
       "      <th>4</th>\n",
       "      <td>158</td>\n",
       "      <td>113</td>\n",
       "      <td>139</td>\n",
       "      <td>194</td>\n",
       "      <td>144</td>\n",
       "      <td>174</td>\n",
       "      <td>215</td>\n",
       "      <td>162</td>\n",
       "      <td>191</td>\n",
       "      <td>225</td>\n",
       "      <td>...</td>\n",
       "      <td>209</td>\n",
       "      <td>166</td>\n",
       "      <td>185</td>\n",
       "      <td>172</td>\n",
       "      <td>135</td>\n",
       "      <td>149</td>\n",
       "      <td>109</td>\n",
       "      <td>78</td>\n",
       "      <td>92</td>\n",
       "      <td>2</td>\n",
       "    </tr>\n",
       "  </tbody>\n",
       "</table>\n",
       "<p>5 rows × 2353 columns</p>\n",
       "</div>"
      ],
      "text/plain": [
       "   pixel0000  pixel0001  pixel0002  pixel0003  pixel0004  pixel0005  \\\n",
       "0        192        153        193        195        155        192   \n",
       "1         25         14         30         68         48         75   \n",
       "2        192        138        153        200        145        163   \n",
       "3         38         19         30         95         59         72   \n",
       "4        158        113        139        194        144        174   \n",
       "\n",
       "   pixel0006  pixel0007  pixel0008  pixel0009  ...  pixel2343  pixel2344  \\\n",
       "0        197        154        185        202  ...        173        124   \n",
       "1        123         93        126        158  ...         60         39   \n",
       "2        201        142        160        206  ...        167        129   \n",
       "3        143        103        119        171  ...         44         26   \n",
       "4        215        162        191        225  ...        209        166   \n",
       "\n",
       "   pixel2345  pixel2346  pixel2347  pixel2348  pixel2349  pixel2350  \\\n",
       "0        138        183        147        166        185        154   \n",
       "1         55         25         14         28         25         14   \n",
       "2        143        159        124        142        136        104   \n",
       "3         36         25         12         17         25         12   \n",
       "4        185        172        135        149        109         78   \n",
       "\n",
       "   pixel2351  label  \n",
       "0        177      2  \n",
       "1         27      2  \n",
       "2        117      2  \n",
       "3         15      2  \n",
       "4         92      2  \n",
       "\n",
       "[5 rows x 2353 columns]"
      ]
     },
     "execution_count": 2,
     "metadata": {},
     "output_type": "execute_result"
    }
   ],
   "source": [
    "data_dir = '/kaggle/input/skin-cancer-mnist-ham10000/hmnist_28_28_RGB.csv'\n",
    "data = pd.read_csv(data_dir)\n",
    "data.head()"
   ]
  },
  {
   "cell_type": "markdown",
   "id": "c6befee8",
   "metadata": {
    "papermill": {
     "duration": 0.009722,
     "end_time": "2023-08-20T09:48:52.247324",
     "exception": false,
     "start_time": "2023-08-20T09:48:52.237602",
     "status": "completed"
    },
    "tags": []
   },
   "source": [
    "**Split data and labels**"
   ]
  },
  {
   "cell_type": "code",
   "execution_count": 3,
   "id": "5ead1bee",
   "metadata": {
    "execution": {
     "iopub.execute_input": "2023-08-20T09:48:52.267940Z",
     "iopub.status.busy": "2023-08-20T09:48:52.267628Z",
     "iopub.status.idle": "2023-08-20T09:48:52.331475Z",
     "shell.execute_reply": "2023-08-20T09:48:52.330252Z"
    },
    "papermill": {
     "duration": 0.077241,
     "end_time": "2023-08-20T09:48:52.334300",
     "exception": false,
     "start_time": "2023-08-20T09:48:52.257059",
     "status": "completed"
    },
    "tags": []
   },
   "outputs": [],
   "source": [
    "Label = data[\"label\"]\n",
    "Data = data.drop(columns=[\"label\"])"
   ]
  },
  {
   "cell_type": "code",
   "execution_count": 4,
   "id": "2b14d684",
   "metadata": {
    "execution": {
     "iopub.execute_input": "2023-08-20T09:48:52.355827Z",
     "iopub.status.busy": "2023-08-20T09:48:52.355491Z",
     "iopub.status.idle": "2023-08-20T09:48:52.366377Z",
     "shell.execute_reply": "2023-08-20T09:48:52.365311Z"
    },
    "papermill": {
     "duration": 0.024426,
     "end_time": "2023-08-20T09:48:52.368719",
     "exception": false,
     "start_time": "2023-08-20T09:48:52.344293",
     "status": "completed"
    },
    "tags": []
   },
   "outputs": [
    {
     "data": {
      "text/plain": [
       "4    6705\n",
       "6    1113\n",
       "2    1099\n",
       "1     514\n",
       "0     327\n",
       "5     142\n",
       "3     115\n",
       "Name: label, dtype: int64"
      ]
     },
     "execution_count": 4,
     "metadata": {},
     "output_type": "execute_result"
    }
   ],
   "source": [
    "data[\"label\"].value_counts()"
   ]
  },
  {
   "cell_type": "markdown",
   "id": "a0036d7e",
   "metadata": {
    "papermill": {
     "duration": 0.010117,
     "end_time": "2023-08-20T09:48:52.389110",
     "exception": false,
     "start_time": "2023-08-20T09:48:52.378993",
     "status": "completed"
    },
    "tags": []
   },
   "source": [
    "We have imbalance in the data"
   ]
  },
  {
   "cell_type": "markdown",
   "id": "b46eaf47",
   "metadata": {
    "papermill": {
     "duration": 0.010042,
     "end_time": "2023-08-20T09:48:52.409164",
     "exception": false,
     "start_time": "2023-08-20T09:48:52.399122",
     "status": "completed"
    },
    "tags": []
   },
   "source": [
    "**Handling imbalanced datasets**"
   ]
  },
  {
   "cell_type": "code",
   "execution_count": 5,
   "id": "d39bda6f",
   "metadata": {
    "execution": {
     "iopub.execute_input": "2023-08-20T09:48:52.429679Z",
     "iopub.status.busy": "2023-08-20T09:48:52.429369Z",
     "iopub.status.idle": "2023-08-20T09:48:55.840004Z",
     "shell.execute_reply": "2023-08-20T09:48:55.839015Z"
    },
    "papermill": {
     "duration": 3.423748,
     "end_time": "2023-08-20T09:48:55.842454",
     "exception": false,
     "start_time": "2023-08-20T09:48:52.418706",
     "status": "completed"
    },
    "tags": []
   },
   "outputs": [
    {
     "name": "stdout",
     "output_type": "stream",
     "text": [
      "Shape of Data : (46935, 28, 28, 3)\n"
     ]
    }
   ],
   "source": [
    "from imblearn.over_sampling import RandomOverSampler \n",
    "\n",
    "oversample = RandomOverSampler()\n",
    "Data, Label  = oversample.fit_resample(Data, Label)\n",
    "Data = np.array(Data).reshape(-1, 28, 28, 3)\n",
    "print('Shape of Data :', Data.shape)"
   ]
  },
  {
   "cell_type": "code",
   "execution_count": 6,
   "id": "35e9a25f",
   "metadata": {
    "execution": {
     "iopub.execute_input": "2023-08-20T09:48:55.864960Z",
     "iopub.status.busy": "2023-08-20T09:48:55.863326Z",
     "iopub.status.idle": "2023-08-20T09:48:55.871001Z",
     "shell.execute_reply": "2023-08-20T09:48:55.870004Z"
    },
    "papermill": {
     "duration": 0.020547,
     "end_time": "2023-08-20T09:48:55.873140",
     "exception": false,
     "start_time": "2023-08-20T09:48:55.852593",
     "status": "completed"
    },
    "tags": []
   },
   "outputs": [
    {
     "data": {
      "text/plain": [
       "array([2, 2, 2, ..., 6, 6, 6])"
      ]
     },
     "execution_count": 6,
     "metadata": {},
     "output_type": "execute_result"
    }
   ],
   "source": [
    "Label = np.array(Label)\n",
    "Label"
   ]
  },
  {
   "cell_type": "markdown",
   "id": "9ef2bcb6",
   "metadata": {
    "papermill": {
     "duration": 0.009367,
     "end_time": "2023-08-20T09:48:55.892279",
     "exception": false,
     "start_time": "2023-08-20T09:48:55.882912",
     "status": "completed"
    },
    "tags": []
   },
   "source": [
    "**Convert abbreviations to it's words**"
   ]
  },
  {
   "cell_type": "code",
   "execution_count": 7,
   "id": "5d4e46e9",
   "metadata": {
    "execution": {
     "iopub.execute_input": "2023-08-20T09:48:55.913207Z",
     "iopub.status.busy": "2023-08-20T09:48:55.912923Z",
     "iopub.status.idle": "2023-08-20T09:48:55.918014Z",
     "shell.execute_reply": "2023-08-20T09:48:55.917058Z"
    },
    "papermill": {
     "duration": 0.017782,
     "end_time": "2023-08-20T09:48:55.920078",
     "exception": false,
     "start_time": "2023-08-20T09:48:55.902296",
     "status": "completed"
    },
    "tags": []
   },
   "outputs": [],
   "source": [
    "classes = {4: ('nv', ' melanocytic nevi'),\n",
    "           6: ('mel', 'melanoma'),\n",
    "           2 :('bkl', 'benign keratosis-like lesions'), \n",
    "           1:('bcc' , ' basal cell carcinoma'),\n",
    "           5: ('vasc', ' pyogenic granulomas and hemorrhage'),\n",
    "           0: ('akiec', 'Actinic keratoses and intraepithelial carcinomae'),\n",
    "           3: ('df', 'dermatofibroma')}"
   ]
  },
  {
   "cell_type": "markdown",
   "id": "71224c4f",
   "metadata": {
    "papermill": {
     "duration": 0.009439,
     "end_time": "2023-08-20T09:48:55.939264",
     "exception": false,
     "start_time": "2023-08-20T09:48:55.929825",
     "status": "completed"
    },
    "tags": []
   },
   "source": [
    "# train_test_split"
   ]
  },
  {
   "cell_type": "code",
   "execution_count": 8,
   "id": "a14ce232",
   "metadata": {
    "execution": {
     "iopub.execute_input": "2023-08-20T09:48:55.960351Z",
     "iopub.status.busy": "2023-08-20T09:48:55.960015Z",
     "iopub.status.idle": "2023-08-20T09:48:57.254321Z",
     "shell.execute_reply": "2023-08-20T09:48:57.253325Z"
    },
    "papermill": {
     "duration": 1.307679,
     "end_time": "2023-08-20T09:48:57.256750",
     "exception": false,
     "start_time": "2023-08-20T09:48:55.949071",
     "status": "completed"
    },
    "tags": []
   },
   "outputs": [],
   "source": [
    "from sklearn.model_selection import train_test_split\n",
    "\n",
    "X_train , X_test , y_train , y_test = train_test_split(Data , Label , test_size = 0.25 , random_state = 49)"
   ]
  },
  {
   "cell_type": "code",
   "execution_count": 9,
   "id": "fa15d6a7",
   "metadata": {
    "execution": {
     "iopub.execute_input": "2023-08-20T09:48:57.280302Z",
     "iopub.status.busy": "2023-08-20T09:48:57.279965Z",
     "iopub.status.idle": "2023-08-20T09:48:57.286083Z",
     "shell.execute_reply": "2023-08-20T09:48:57.284804Z"
    },
    "papermill": {
     "duration": 0.019906,
     "end_time": "2023-08-20T09:48:57.288324",
     "exception": false,
     "start_time": "2023-08-20T09:48:57.268418",
     "status": "completed"
    },
    "tags": []
   },
   "outputs": [
    {
     "name": "stdout",
     "output_type": "stream",
     "text": [
      "(35201, 28, 28, 3)\n",
      "(35201,)\n",
      "(11734, 28, 28, 3)\n",
      "(11734,)\n"
     ]
    }
   ],
   "source": [
    "print(X_train.shape)\n",
    "print(y_train.shape)\n",
    "print(X_test.shape)\n",
    "print(y_test.shape)"
   ]
  },
  {
   "cell_type": "markdown",
   "id": "fb9a2067",
   "metadata": {
    "papermill": {
     "duration": 0.009492,
     "end_time": "2023-08-20T09:48:57.307669",
     "exception": false,
     "start_time": "2023-08-20T09:48:57.298177",
     "status": "completed"
    },
    "tags": []
   },
   "source": [
    "**Convert labels to categorical types**"
   ]
  },
  {
   "cell_type": "code",
   "execution_count": 10,
   "id": "4e2a0490",
   "metadata": {
    "execution": {
     "iopub.execute_input": "2023-08-20T09:48:57.328569Z",
     "iopub.status.busy": "2023-08-20T09:48:57.328270Z",
     "iopub.status.idle": "2023-08-20T09:48:57.335239Z",
     "shell.execute_reply": "2023-08-20T09:48:57.334254Z"
    },
    "papermill": {
     "duration": 0.019841,
     "end_time": "2023-08-20T09:48:57.337412",
     "exception": false,
     "start_time": "2023-08-20T09:48:57.317571",
     "status": "completed"
    },
    "tags": []
   },
   "outputs": [],
   "source": [
    "from keras.utils.np_utils import to_categorical\n",
    "\n",
    "y_train = to_categorical(y_train)\n",
    "y_test = to_categorical(y_test)"
   ]
  },
  {
   "cell_type": "markdown",
   "id": "91c0c9ff",
   "metadata": {
    "papermill": {
     "duration": 0.009909,
     "end_time": "2023-08-20T09:48:57.357978",
     "exception": false,
     "start_time": "2023-08-20T09:48:57.348069",
     "status": "completed"
    },
    "tags": []
   },
   "source": [
    "**Create Image Data Generation**"
   ]
  },
  {
   "cell_type": "code",
   "execution_count": 11,
   "id": "7317c407",
   "metadata": {
    "execution": {
     "iopub.execute_input": "2023-08-20T09:48:57.379488Z",
     "iopub.status.busy": "2023-08-20T09:48:57.379176Z",
     "iopub.status.idle": "2023-08-20T09:48:57.384336Z",
     "shell.execute_reply": "2023-08-20T09:48:57.383319Z"
    },
    "papermill": {
     "duration": 0.018708,
     "end_time": "2023-08-20T09:48:57.386721",
     "exception": false,
     "start_time": "2023-08-20T09:48:57.368013",
     "status": "completed"
    },
    "tags": []
   },
   "outputs": [],
   "source": [
    "datagen = ImageDataGenerator(rescale=(1./255)\n",
    "                             ,rotation_range=10\n",
    "                             ,zoom_range = 0.1\n",
    "                             ,width_shift_range=0.1\n",
    "                             ,height_shift_range=0.1)\n",
    "\n",
    "testgen = ImageDataGenerator(rescale=(1./255))"
   ]
  },
  {
   "cell_type": "markdown",
   "id": "0b40db2f",
   "metadata": {
    "papermill": {
     "duration": 0.009451,
     "end_time": "2023-08-20T09:48:57.405861",
     "exception": false,
     "start_time": "2023-08-20T09:48:57.396410",
     "status": "completed"
    },
    "tags": []
   },
   "source": [
    "**Create ReduceLROnPlateau to learning rate reduction**"
   ]
  },
  {
   "cell_type": "code",
   "execution_count": 12,
   "id": "8103581f",
   "metadata": {
    "execution": {
     "iopub.execute_input": "2023-08-20T09:48:57.426406Z",
     "iopub.status.busy": "2023-08-20T09:48:57.426117Z",
     "iopub.status.idle": "2023-08-20T09:48:57.432344Z",
     "shell.execute_reply": "2023-08-20T09:48:57.431317Z"
    },
    "papermill": {
     "duration": 0.018871,
     "end_time": "2023-08-20T09:48:57.434408",
     "exception": false,
     "start_time": "2023-08-20T09:48:57.415537",
     "status": "completed"
    },
    "tags": []
   },
   "outputs": [],
   "source": [
    "from keras.callbacks import ReduceLROnPlateau\n",
    "\n",
    "learning_rate_reduction = ReduceLROnPlateau(monitor='val_accuracy'\n",
    "                                            , patience = 2\n",
    "                                            , verbose=1\n",
    "                                            ,factor=0.5\n",
    "                                            , min_lr=0.00001)"
   ]
  },
  {
   "cell_type": "markdown",
   "id": "374d2355",
   "metadata": {
    "papermill": {
     "duration": 0.00941,
     "end_time": "2023-08-20T09:48:57.453456",
     "exception": false,
     "start_time": "2023-08-20T09:48:57.444046",
     "status": "completed"
    },
    "tags": []
   },
   "source": [
    "# Model Structure"
   ]
  },
  {
   "cell_type": "code",
   "execution_count": 13,
   "id": "03239f85",
   "metadata": {
    "execution": {
     "iopub.execute_input": "2023-08-20T09:48:57.475294Z",
     "iopub.status.busy": "2023-08-20T09:48:57.474509Z",
     "iopub.status.idle": "2023-08-20T09:49:00.565489Z",
     "shell.execute_reply": "2023-08-20T09:49:00.564612Z"
    },
    "papermill": {
     "duration": 3.152221,
     "end_time": "2023-08-20T09:49:00.615506",
     "exception": false,
     "start_time": "2023-08-20T09:48:57.463285",
     "status": "completed"
    },
    "tags": []
   },
   "outputs": [
    {
     "name": "stdout",
     "output_type": "stream",
     "text": [
      "Model: \"sequential\"\n",
      "_________________________________________________________________\n",
      " Layer (type)                Output Shape              Param #   \n",
      "=================================================================\n",
      " conv2d (Conv2D)             (None, 28, 28, 32)        896       \n",
      "                                                                 \n",
      " max_pooling2d (MaxPooling2D  (None, 14, 14, 32)       0         \n",
      " )                                                               \n",
      "                                                                 \n",
      " batch_normalization (BatchN  (None, 14, 14, 32)       128       \n",
      " ormalization)                                                   \n",
      "                                                                 \n",
      " conv2d_1 (Conv2D)           (None, 14, 14, 64)        18496     \n",
      "                                                                 \n",
      " conv2d_2 (Conv2D)           (None, 14, 14, 64)        36928     \n",
      "                                                                 \n",
      " max_pooling2d_1 (MaxPooling  (None, 7, 7, 64)         0         \n",
      " 2D)                                                             \n",
      "                                                                 \n",
      " batch_normalization_1 (Batc  (None, 7, 7, 64)         256       \n",
      " hNormalization)                                                 \n",
      "                                                                 \n",
      " conv2d_3 (Conv2D)           (None, 7, 7, 128)         73856     \n",
      "                                                                 \n",
      " conv2d_4 (Conv2D)           (None, 7, 7, 128)         147584    \n",
      "                                                                 \n",
      " max_pooling2d_2 (MaxPooling  (None, 3, 3, 128)        0         \n",
      " 2D)                                                             \n",
      "                                                                 \n",
      " batch_normalization_2 (Batc  (None, 3, 3, 128)        512       \n",
      " hNormalization)                                                 \n",
      "                                                                 \n",
      " conv2d_5 (Conv2D)           (None, 3, 3, 256)         295168    \n",
      "                                                                 \n",
      " conv2d_6 (Conv2D)           (None, 3, 3, 256)         590080    \n",
      "                                                                 \n",
      " max_pooling2d_3 (MaxPooling  (None, 1, 1, 256)        0         \n",
      " 2D)                                                             \n",
      "                                                                 \n",
      " flatten (Flatten)           (None, 256)               0         \n",
      "                                                                 \n",
      " dropout (Dropout)           (None, 256)               0         \n",
      "                                                                 \n",
      " dense (Dense)               (None, 256)               65792     \n",
      "                                                                 \n",
      " batch_normalization_3 (Batc  (None, 256)              1024      \n",
      " hNormalization)                                                 \n",
      "                                                                 \n",
      " dense_1 (Dense)             (None, 128)               32896     \n",
      "                                                                 \n",
      " batch_normalization_4 (Batc  (None, 128)              512       \n",
      " hNormalization)                                                 \n",
      "                                                                 \n",
      " dense_2 (Dense)             (None, 64)                8256      \n",
      "                                                                 \n",
      " batch_normalization_5 (Batc  (None, 64)               256       \n",
      " hNormalization)                                                 \n",
      "                                                                 \n",
      " dense_3 (Dense)             (None, 32)                2080      \n",
      "                                                                 \n",
      " batch_normalization_6 (Batc  (None, 32)               128       \n",
      " hNormalization)                                                 \n",
      "                                                                 \n",
      " classifier (Dense)          (None, 7)                 231       \n",
      "                                                                 \n",
      "=================================================================\n",
      "Total params: 1,275,079\n",
      "Trainable params: 1,273,671\n",
      "Non-trainable params: 1,408\n",
      "_________________________________________________________________\n"
     ]
    }
   ],
   "source": [
    "model = keras.models.Sequential()\n",
    "\n",
    "# Create Model Structure\n",
    "model.add(keras.layers.Input(shape=[28, 28, 3]))\n",
    "model.add(keras.layers.Conv2D(32, (3, 3), activation='relu', padding='same', kernel_initializer='he_normal'))\n",
    "model.add(keras.layers.MaxPooling2D())\n",
    "model.add(keras.layers.BatchNormalization())\n",
    "\n",
    "model.add(keras.layers.Conv2D(64, (3, 3), activation='relu', padding='same', kernel_initializer='he_normal'))\n",
    "model.add(keras.layers.Conv2D(64, (3, 3), activation='relu', padding='same', kernel_initializer='he_normal'))\n",
    "model.add(keras.layers.MaxPooling2D())\n",
    "model.add(keras.layers.BatchNormalization())\n",
    "model.add(keras.layers.Conv2D(128, (3, 3), activation='relu', padding='same', kernel_initializer='he_normal'))\n",
    "model.add(keras.layers.Conv2D(128, (3, 3), activation='relu', padding='same', kernel_initializer='he_normal'))\n",
    "model.add(keras.layers.MaxPooling2D())\n",
    "model.add(keras.layers.BatchNormalization())\n",
    "\n",
    "model.add(keras.layers.Conv2D(256, (3, 3), activation='relu', padding='same', kernel_initializer='he_normal'))\n",
    "model.add(keras.layers.Conv2D(256, (3, 3), activation='relu', padding='same', kernel_initializer='he_normal'))\n",
    "model.add(keras.layers.MaxPooling2D())\n",
    "\n",
    "model.add(keras.layers.Flatten())\n",
    "model.add(keras.layers.Dropout(rate=0.2))\n",
    "model.add(keras.layers.Dense(units=256, activation='relu', kernel_initializer='he_normal'))\n",
    "model.add(keras.layers.BatchNormalization())\n",
    "\n",
    "model.add(keras.layers.Dense(units=128, activation='relu', kernel_initializer='he_normal'))\n",
    "model.add(keras.layers.BatchNormalization())\n",
    "\n",
    "model.add(keras.layers.Dense(units=64, activation='relu', kernel_initializer='he_normal'))\n",
    "model.add(keras.layers.BatchNormalization())\n",
    "\n",
    "model.add(keras.layers.Dense(units=32, activation='relu', kernel_initializer='he_normal', kernel_regularizer=keras.regularizers.L1L2()))\n",
    "model.add(keras.layers.BatchNormalization())\n",
    "\n",
    "model.add(keras.layers.Dense(units=7, activation='softmax', kernel_initializer='glorot_uniform', name='classifier'))\n",
    "model.compile(Adamax(learning_rate= 0.001), loss= 'categorical_crossentropy', metrics= ['accuracy'])\n",
    "\n",
    "model.summary()\n",
    "\n"
   ]
  },
  {
   "cell_type": "markdown",
   "id": "8c7e4fba",
   "metadata": {
    "papermill": {
     "duration": 0.015013,
     "end_time": "2023-08-20T09:49:00.645864",
     "exception": false,
     "start_time": "2023-08-20T09:49:00.630851",
     "status": "completed"
    },
    "tags": []
   },
   "source": [
    "**Training model**"
   ]
  },
  {
   "cell_type": "code",
   "execution_count": 14,
   "id": "bf50f1e7",
   "metadata": {
    "execution": {
     "iopub.execute_input": "2023-08-20T09:49:00.677280Z",
     "iopub.status.busy": "2023-08-20T09:49:00.676919Z",
     "iopub.status.idle": "2023-08-20T09:51:27.031009Z",
     "shell.execute_reply": "2023-08-20T09:51:27.029929Z"
    },
    "papermill": {
     "duration": 146.373087,
     "end_time": "2023-08-20T09:51:27.033852",
     "exception": false,
     "start_time": "2023-08-20T09:49:00.660765",
     "status": "completed"
    },
    "tags": []
   },
   "outputs": [
    {
     "name": "stdout",
     "output_type": "stream",
     "text": [
      "Epoch 1/25\n",
      "276/276 [==============================] - 18s 20ms/step - loss: 1.2212 - accuracy: 0.5579 - val_loss: 1.1342 - val_accuracy: 0.6081 - lr: 0.0010\n",
      "Epoch 2/25\n",
      "276/276 [==============================] - 4s 13ms/step - loss: 0.5195 - accuracy: 0.8236 - val_loss: 0.3914 - val_accuracy: 0.8699 - lr: 0.0010\n",
      "Epoch 3/25\n",
      "276/276 [==============================] - 4s 14ms/step - loss: 0.3020 - accuracy: 0.8953 - val_loss: 0.2890 - val_accuracy: 0.9081 - lr: 0.0010\n",
      "Epoch 4/25\n",
      "276/276 [==============================] - 4s 13ms/step - loss: 0.2069 - accuracy: 0.9294 - val_loss: 0.1808 - val_accuracy: 0.9457 - lr: 0.0010\n",
      "Epoch 5/25\n",
      "276/276 [==============================] - 4s 13ms/step - loss: 0.1511 - accuracy: 0.9486 - val_loss: 0.2261 - val_accuracy: 0.9278 - lr: 0.0010\n",
      "Epoch 6/25\n",
      "273/276 [============================>.] - ETA: 0s - loss: 0.1136 - accuracy: 0.9618\n",
      "Epoch 6: ReduceLROnPlateau reducing learning rate to 0.0005000000237487257.\n",
      "276/276 [==============================] - 4s 13ms/step - loss: 0.1136 - accuracy: 0.9617 - val_loss: 0.2015 - val_accuracy: 0.9395 - lr: 0.0010\n",
      "Epoch 7/25\n",
      "276/276 [==============================] - 4s 14ms/step - loss: 0.0551 - accuracy: 0.9835 - val_loss: 0.1077 - val_accuracy: 0.9717 - lr: 5.0000e-04\n",
      "Epoch 8/25\n",
      "276/276 [==============================] - 4s 14ms/step - loss: 0.0308 - accuracy: 0.9913 - val_loss: 0.1082 - val_accuracy: 0.9738 - lr: 5.0000e-04\n",
      "Epoch 9/25\n",
      "276/276 [==============================] - 4s 15ms/step - loss: 0.0241 - accuracy: 0.9934 - val_loss: 0.1114 - val_accuracy: 0.9733 - lr: 5.0000e-04\n",
      "Epoch 10/25\n",
      "272/276 [============================>.] - ETA: 0s - loss: 0.0193 - accuracy: 0.9946\n",
      "Epoch 10: ReduceLROnPlateau reducing learning rate to 0.0002500000118743628.\n",
      "276/276 [==============================] - 4s 14ms/step - loss: 0.0194 - accuracy: 0.9946 - val_loss: 0.1173 - val_accuracy: 0.9738 - lr: 5.0000e-04\n",
      "Epoch 11/25\n",
      "276/276 [==============================] - 4s 13ms/step - loss: 0.0118 - accuracy: 0.9970 - val_loss: 0.0954 - val_accuracy: 0.9801 - lr: 2.5000e-04\n",
      "Epoch 12/25\n",
      "276/276 [==============================] - 4s 14ms/step - loss: 0.0064 - accuracy: 0.9987 - val_loss: 0.1092 - val_accuracy: 0.9784 - lr: 2.5000e-04\n",
      "Epoch 13/25\n",
      "276/276 [==============================] - ETA: 0s - loss: 0.0056 - accuracy: 0.9989\n",
      "Epoch 13: ReduceLROnPlateau reducing learning rate to 0.0001250000059371814.\n",
      "276/276 [==============================] - 4s 13ms/step - loss: 0.0056 - accuracy: 0.9989 - val_loss: 0.1079 - val_accuracy: 0.9784 - lr: 2.5000e-04\n",
      "Epoch 14/25\n",
      "276/276 [==============================] - 4s 14ms/step - loss: 0.0040 - accuracy: 0.9993 - val_loss: 0.1021 - val_accuracy: 0.9804 - lr: 1.2500e-04\n",
      "Epoch 15/25\n",
      "276/276 [==============================] - 4s 14ms/step - loss: 0.0032 - accuracy: 0.9995 - val_loss: 0.1041 - val_accuracy: 0.9790 - lr: 1.2500e-04\n",
      "Epoch 16/25\n",
      "273/276 [============================>.] - ETA: 0s - loss: 0.0030 - accuracy: 0.9996\n",
      "Epoch 16: ReduceLROnPlateau reducing learning rate to 6.25000029685907e-05.\n",
      "276/276 [==============================] - 4s 14ms/step - loss: 0.0030 - accuracy: 0.9996 - val_loss: 0.1028 - val_accuracy: 0.9797 - lr: 1.2500e-04\n",
      "Epoch 17/25\n",
      "276/276 [==============================] - 4s 16ms/step - loss: 0.0030 - accuracy: 0.9993 - val_loss: 0.1006 - val_accuracy: 0.9805 - lr: 6.2500e-05\n",
      "Epoch 18/25\n",
      "272/276 [============================>.] - ETA: 0s - loss: 0.0023 - accuracy: 0.9997\n",
      "Epoch 18: ReduceLROnPlateau reducing learning rate to 3.125000148429535e-05.\n",
      "276/276 [==============================] - 4s 13ms/step - loss: 0.0025 - accuracy: 0.9997 - val_loss: 0.1081 - val_accuracy: 0.9785 - lr: 6.2500e-05\n",
      "Epoch 19/25\n",
      "276/276 [==============================] - 4s 14ms/step - loss: 0.0023 - accuracy: 0.9997 - val_loss: 0.1052 - val_accuracy: 0.9792 - lr: 3.1250e-05\n",
      "Epoch 20/25\n",
      "276/276 [==============================] - 4s 14ms/step - loss: 0.0021 - accuracy: 0.9998 - val_loss: 0.0999 - val_accuracy: 0.9807 - lr: 3.1250e-05\n",
      "Epoch 21/25\n",
      "276/276 [==============================] - 4s 14ms/step - loss: 0.0020 - accuracy: 0.9999 - val_loss: 0.1016 - val_accuracy: 0.9804 - lr: 3.1250e-05\n",
      "Epoch 22/25\n",
      "275/276 [============================>.] - ETA: 0s - loss: 0.0018 - accuracy: 0.9998\n",
      "Epoch 22: ReduceLROnPlateau reducing learning rate to 1.5625000742147677e-05.\n",
      "276/276 [==============================] - 4s 14ms/step - loss: 0.0018 - accuracy: 0.9998 - val_loss: 0.1076 - val_accuracy: 0.9797 - lr: 3.1250e-05\n",
      "Epoch 23/25\n",
      "276/276 [==============================] - 4s 14ms/step - loss: 0.0017 - accuracy: 0.9997 - val_loss: 0.1036 - val_accuracy: 0.9805 - lr: 1.5625e-05\n",
      "Epoch 24/25\n",
      "276/276 [==============================] - 4s 14ms/step - loss: 0.0019 - accuracy: 0.9998 - val_loss: 0.1017 - val_accuracy: 0.9809 - lr: 1.5625e-05\n",
      "Epoch 25/25\n",
      "276/276 [==============================] - 4s 14ms/step - loss: 0.0022 - accuracy: 0.9997 - val_loss: 0.1019 - val_accuracy: 0.9810 - lr: 1.5625e-05\n"
     ]
    }
   ],
   "source": [
    "history = model.fit(X_train ,\n",
    "                    y_train ,\n",
    "                    epochs=25 ,\n",
    "                    batch_size=128,\n",
    "                    validation_data=(X_test , y_test) ,\n",
    "                    callbacks=[learning_rate_reduction])"
   ]
  },
  {
   "cell_type": "markdown",
   "id": "3f57848e",
   "metadata": {
    "papermill": {
     "duration": 0.128441,
     "end_time": "2023-08-20T09:51:27.289894",
     "exception": false,
     "start_time": "2023-08-20T09:51:27.161453",
     "status": "completed"
    },
    "tags": []
   },
   "source": [
    "**Show training history**"
   ]
  },
  {
   "cell_type": "code",
   "execution_count": 15,
   "id": "88d71ad7",
   "metadata": {
    "execution": {
     "iopub.execute_input": "2023-08-20T09:51:27.549415Z",
     "iopub.status.busy": "2023-08-20T09:51:27.549052Z",
     "iopub.status.idle": "2023-08-20T09:51:27.559773Z",
     "shell.execute_reply": "2023-08-20T09:51:27.558844Z"
    },
    "papermill": {
     "duration": 0.142572,
     "end_time": "2023-08-20T09:51:27.561737",
     "exception": false,
     "start_time": "2023-08-20T09:51:27.419165",
     "status": "completed"
    },
    "tags": []
   },
   "outputs": [],
   "source": [
    "def plot_training(hist):\n",
    "    tr_acc = hist.history['accuracy']\n",
    "    tr_loss = hist.history['loss']\n",
    "    val_acc = hist.history['val_accuracy']\n",
    "    val_loss = hist.history['val_loss']\n",
    "    index_loss = np.argmin(val_loss)\n",
    "    val_lowest = val_loss[index_loss]\n",
    "    index_acc = np.argmax(val_acc)\n",
    "    acc_highest = val_acc[index_acc]\n",
    "\n",
    "    plt.figure(figsize= (20, 8))\n",
    "    plt.style.use('fivethirtyeight')\n",
    "    Epochs = [i+1 for i in range(len(tr_acc))]\n",
    "    loss_label = f'best epoch= {str(index_loss + 1)}'\n",
    "    acc_label = f'best epoch= {str(index_acc + 1)}'\n",
    "    \n",
    "    plt.subplot(1, 2, 1)\n",
    "    plt.plot(Epochs, tr_loss, 'r', label= 'Training loss')\n",
    "    plt.plot(Epochs, val_loss, 'g', label= 'Validation loss')\n",
    "    plt.scatter(index_loss + 1, val_lowest, s= 150, c= 'blue', label= loss_label)\n",
    "    plt.title('Training and Validation Loss')\n",
    "    plt.xlabel('Epochs')\n",
    "    plt.ylabel('Loss')\n",
    "    plt.legend()\n",
    "    \n",
    "    plt.subplot(1, 2, 2)\n",
    "    plt.plot(Epochs, tr_acc, 'r', label= 'Training Accuracy')\n",
    "    plt.plot(Epochs, val_acc, 'g', label= 'Validation Accuracy')\n",
    "    plt.scatter(index_acc + 1 , acc_highest, s= 150, c= 'blue', label= acc_label)\n",
    "    plt.title('Training and Validation Accuracy')\n",
    "    plt.xlabel('Epochs')\n",
    "    plt.ylabel('Accuracy')\n",
    "    plt.legend()\n",
    "    \n",
    "    plt.tight_layout\n",
    "    plt.show()\n",
    "    "
   ]
  },
  {
   "cell_type": "code",
   "execution_count": 16,
   "id": "48b45d17",
   "metadata": {
    "execution": {
     "iopub.execute_input": "2023-08-20T09:51:27.819314Z",
     "iopub.status.busy": "2023-08-20T09:51:27.818314Z",
     "iopub.status.idle": "2023-08-20T09:51:28.608435Z",
     "shell.execute_reply": "2023-08-20T09:51:28.607476Z"
    },
    "papermill": {
     "duration": 0.920291,
     "end_time": "2023-08-20T09:51:28.610495",
     "exception": false,
     "start_time": "2023-08-20T09:51:27.690204",
     "status": "completed"
    },
    "tags": []
   },
   "outputs": [
    {
     "data": {
      "image/png": "[encoded data removed]",
      "text/plain": [
       "<Figure size 2000x800 with 2 Axes>"
      ]
     },
     "metadata": {},
     "output_type": "display_data"
    }
   ],
   "source": [
    "plot_training(history)"
   ]
  },
  {
   "cell_type": "markdown",
   "id": "875f21ff",
   "metadata": {
    "papermill": {
     "duration": 0.129691,
     "end_time": "2023-08-20T09:51:28.871217",
     "exception": false,
     "start_time": "2023-08-20T09:51:28.741526",
     "status": "completed"
    },
    "tags": []
   },
   "source": [
    "# Model Evaluation"
   ]
  },
  {
   "cell_type": "code",
   "execution_count": 17,
   "id": "5aa0b622",
   "metadata": {
    "execution": {
     "iopub.execute_input": "2023-08-20T09:51:29.129953Z",
     "iopub.status.busy": "2023-08-20T09:51:29.129580Z",
     "iopub.status.idle": "2023-08-20T09:51:37.760566Z",
     "shell.execute_reply": "2023-08-20T09:51:37.759521Z"
    },
    "papermill": {
     "duration": 8.762961,
     "end_time": "2023-08-20T09:51:37.762699",
     "exception": false,
     "start_time": "2023-08-20T09:51:28.999738",
     "status": "completed"
    },
    "tags": []
   },
   "outputs": [
    {
     "name": "stdout",
     "output_type": "stream",
     "text": [
      "1101/1101 [==============================] - 4s 4ms/step - loss: 0.0040 - accuracy: 1.0000\n",
      "367/367 [==============================] - 2s 4ms/step - loss: 0.0698 - accuracy: 0.9853\n",
      "Train Loss:  0.003985487390309572\n",
      "Train Accuracy:  0.9999715685844421\n",
      "--------------------\n",
      "Test Loss:  0.06980710476636887\n",
      "Test Accuracy:  0.9852564930915833\n"
     ]
    }
   ],
   "source": [
    "train_score = model.evaluate(X_train, y_train, verbose= 1)\n",
    "test_score = model.evaluate(X_test, y_test, verbose= 1)\n",
    "\n",
    "print(\"Train Loss: \", train_score[0])\n",
    "print(\"Train Accuracy: \", train_score[1])\n",
    "print('-' * 20)\n",
    "print(\"Test Loss: \", test_score[0])\n",
    "print(\"Test Accuracy: \", test_score[1])"
   ]
  },
  {
   "cell_type": "code",
   "execution_count": 18,
   "id": "86d8ed7d",
   "metadata": {
    "execution": {
     "iopub.execute_input": "2023-08-20T09:51:38.045199Z",
     "iopub.status.busy": "2023-08-20T09:51:38.044232Z",
     "iopub.status.idle": "2023-08-20T09:51:39.966379Z",
     "shell.execute_reply": "2023-08-20T09:51:39.965332Z"
    },
    "papermill": {
     "duration": 2.067561,
     "end_time": "2023-08-20T09:51:39.969167",
     "exception": false,
     "start_time": "2023-08-20T09:51:37.901606",
     "status": "completed"
    },
    "tags": []
   },
   "outputs": [
    {
     "name": "stdout",
     "output_type": "stream",
     "text": [
      "367/367 [==============================] - 1s 3ms/step\n"
     ]
    }
   ],
   "source": [
    "y_true = np.array(y_test)\n",
    "y_pred = model.predict(X_test)\n",
    "\n",
    "y_pred = np.argmax(y_pred , axis=1)\n",
    "y_true = np.argmax(y_true , axis=1)"
   ]
  },
  {
   "cell_type": "markdown",
   "id": "ff83020f",
   "metadata": {
    "papermill": {
     "duration": 0.138809,
     "end_time": "2023-08-20T09:51:40.246360",
     "exception": false,
     "start_time": "2023-08-20T09:51:40.107551",
     "status": "completed"
    },
    "tags": []
   },
   "source": [
    "**Create classes labels**"
   ]
  },
  {
   "cell_type": "code",
   "execution_count": 19,
   "id": "ea0e3e23",
   "metadata": {
    "execution": {
     "iopub.execute_input": "2023-08-20T09:51:40.581205Z",
     "iopub.status.busy": "2023-08-20T09:51:40.580801Z",
     "iopub.status.idle": "2023-08-20T09:51:40.586539Z",
     "shell.execute_reply": "2023-08-20T09:51:40.585501Z"
    },
    "papermill": {
     "duration": 0.149496,
     "end_time": "2023-08-20T09:51:40.590282",
     "exception": false,
     "start_time": "2023-08-20T09:51:40.440786",
     "status": "completed"
    },
    "tags": []
   },
   "outputs": [
    {
     "name": "stdout",
     "output_type": "stream",
     "text": [
      "[4, 6, 2, 1, 5, 0, 3]\n"
     ]
    }
   ],
   "source": [
    "classes_labels = []\n",
    "for key in classes.keys():\n",
    "    classes_labels.append(key)\n",
    "\n",
    "print(classes_labels)"
   ]
  },
  {
   "cell_type": "markdown",
   "id": "df527c94",
   "metadata": {
    "papermill": {
     "duration": 0.139827,
     "end_time": "2023-08-20T09:51:40.869905",
     "exception": false,
     "start_time": "2023-08-20T09:51:40.730078",
     "status": "completed"
    },
    "tags": []
   },
   "source": [
    "**Confussion Matrix**"
   ]
  },
  {
   "cell_type": "code",
   "execution_count": 20,
   "id": "01287a51",
   "metadata": {
    "execution": {
     "iopub.execute_input": "2023-08-20T09:51:41.149286Z",
     "iopub.status.busy": "2023-08-20T09:51:41.148927Z",
     "iopub.status.idle": "2023-08-20T09:51:41.789804Z",
     "shell.execute_reply": "2023-08-20T09:51:41.788729Z"
    },
    "papermill": {
     "duration": 0.783219,
     "end_time": "2023-08-20T09:51:41.792253",
     "exception": false,
     "start_time": "2023-08-20T09:51:41.009034",
     "status": "completed"
    },
    "tags": []
   },
   "outputs": [
    {
     "data": {
      "image/png": "[encoded data removed]",
      "text/plain": [
       "<Figure size 1000x1000 with 2 Axes>"
      ]
     },
     "metadata": {},
     "output_type": "display_data"
    }
   ],
   "source": [
    "# Confusion matrix\n",
    "cm = cm = confusion_matrix(y_true, y_pred, labels=classes_labels)\n",
    "\n",
    "plt.figure(figsize= (10, 10))\n",
    "plt.imshow(cm, interpolation= 'nearest', cmap= plt.cm.Blues)\n",
    "plt.title('Confusion Matrix')\n",
    "plt.colorbar()\n",
    "\n",
    "tick_marks = np.arange(len(classes))\n",
    "plt.xticks(tick_marks, classes, rotation= 45)\n",
    "plt.yticks(tick_marks, classes)\n",
    "\n",
    "\n",
    "thresh = cm.max() / 2.\n",
    "for i, j in itertools.product(range(cm.shape[0]), range(cm.shape[1])):\n",
    "    plt.text(j, i, cm[i, j], horizontalalignment= 'center', color= 'white' if cm[i, j] > thresh else 'black')\n",
    "\n",
    "plt.tight_layout()\n",
    "plt.ylabel('True Label')\n",
    "plt.xlabel('Predicted Label')\n",
    "\n",
    "plt.show()"
   ]
  },
  {
   "cell_type": "markdown",
   "id": "ce620b33",
   "metadata": {
    "papermill": {
     "duration": 0.141878,
     "end_time": "2023-08-20T09:51:42.076501",
     "exception": false,
     "start_time": "2023-08-20T09:51:41.934623",
     "status": "completed"
    },
    "tags": []
   },
   "source": [
    "**Save model**"
   ]
  },
  {
   "cell_type": "code",
   "execution_count": 21,
   "id": "ef867178",
   "metadata": {
    "execution": {
     "iopub.execute_input": "2023-08-20T09:51:42.368564Z",
     "iopub.status.busy": "2023-08-20T09:51:42.368174Z",
     "iopub.status.idle": "2023-08-20T09:51:42.511963Z",
     "shell.execute_reply": "2023-08-20T09:51:42.510960Z"
    },
    "papermill": {
     "duration": 0.296316,
     "end_time": "2023-08-20T09:51:42.514397",
     "exception": false,
     "start_time": "2023-08-20T09:51:42.218081",
     "status": "completed"
    },
    "tags": []
   },
   "outputs": [],
   "source": [
    "#Save the model\n",
    "model.save('Skin Cancer.h5')"
   ]
  },
  {
   "cell_type": "markdown",
   "id": "7c7b7d30",
   "metadata": {
    "papermill": {
     "duration": 0.139799,
     "end_time": "2023-08-20T09:51:42.793514",
     "exception": false,
     "start_time": "2023-08-20T09:51:42.653715",
     "status": "completed"
    },
    "tags": []
   },
   "source": [
    "If you found it helpful, do upvote\n",
    "\n",
    "Feel free to comment\n",
    "\n",
    "I would love to have suggestions."
   ]
  }
 ],
 "metadata": {
  "kernelspec": {
   "display_name": "Python 3",
   "language": "python",
   "name": "python3"
  },
  "language_info": {
   "codemirror_mode": {
    "name": "ipython",
    "version": 3
   },
   "file_extension": ".py",
   "mimetype": "text/x-python",
   "name": "python",
   "nbconvert_exporter": "python",
   "pygments_lexer": "ipython3",
   "version": "3.10.12"
  },
  "papermill": {
   "default_parameters": {},
   "duration": 197.810856,
   "end_time": "2023-08-20T09:51:46.327131",
   "environment_variables": {},
   "exception": null,
   "input_path": "__notebook__.ipynb",
   "output_path": "__notebook__.ipynb",
   "parameters": {},
   "start_time": "2023-08-20T09:48:28.516275",
   "version": "2.4.0"
  }
 },
 "nbformat": 4,
 "nbformat_minor": 5
}
